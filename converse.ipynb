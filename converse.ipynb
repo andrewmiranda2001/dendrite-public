{
 "cells": [
  {
   "cell_type": "code",
   "execution_count": null,
   "id": "0ad5f3a4",
   "metadata": {},
   "outputs": [],
   "source": [
    "from dendrite.utils.config import run_write_pass\n",
    "from dendrite.models.client_implementations.openai.client import OpenAIInterfaceClient\n",
    "from dendrite.models.client_implementations.openai.utils import read_convo_from_file\n",
    "from pprint import pprint"
   ]
  },
  {
   "cell_type": "code",
   "execution_count": null,
   "id": "3b3afe54",
   "metadata": {},
   "outputs": [],
   "source": [
    "conversation_path = 'C:\\\\Users\\\\Main\\\\Dendrite\\\\dendrite\\\\data\\\\prompts\\\\write\\\\relationships.json'"
   ]
  },
  {
   "cell_type": "code",
   "execution_count": null,
   "id": "5136a8cc",
   "metadata": {},
   "outputs": [],
   "source": [
    "run_write_pass(conversation_path)"
   ]
  },
  {
   "cell_type": "code",
   "execution_count": null,
   "id": "e91e2e6b",
   "metadata": {},
   "outputs": [],
   "source": []
  }
 ],
 "metadata": {
  "kernelspec": {
   "display_name": "Python 3",
   "language": "python",
   "name": "python3"
  },
  "language_info": {
   "codemirror_mode": {
    "name": "ipython",
    "version": 3
   },
   "file_extension": ".py",
   "mimetype": "text/x-python",
   "name": "python",
   "nbconvert_exporter": "python",
   "pygments_lexer": "ipython3",
   "version": "3.12.4"
  }
 },
 "nbformat": 4,
 "nbformat_minor": 5
}
